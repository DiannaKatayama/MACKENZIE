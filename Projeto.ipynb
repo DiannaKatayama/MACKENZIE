{
  "nbformat": 4,
  "nbformat_minor": 0,
  "metadata": {
    "kernelspec": {
      "display_name": "Python 3",
      "language": "python",
      "name": "python3"
    },
    "language_info": {
      "codemirror_mode": {
        "name": "ipython",
        "version": 3
      },
      "file_extension": ".py",
      "mimetype": "text/x-python",
      "name": "python",
      "nbconvert_exporter": "python",
      "pygments_lexer": "ipython3",
      "version": "3.7.4"
    },
    "colab": {
      "name": "AED_Projeto.ipynb",
      "provenance": [],
      "include_colab_link": true
    }
  },
  "cells": [
    {
      "cell_type": "markdown",
      "metadata": {
        "id": "view-in-github",
        "colab_type": "text"
      },
      "source": [
        "<a href=\"https://colab.research.google.com/github/DiannaKatayama/MACKENZIE/blob/main/Projeto.ipynb\" target=\"_parent\"><img src=\"https://colab.research.google.com/assets/colab-badge.svg\" alt=\"Open In Colab\"/></a>"
      ]
    },
    {
      "cell_type": "markdown",
      "metadata": {
        "id": "40b90843"
      },
      "source": [
        "<img src=\"http://meusite.mackenzie.br/rogerio/mackenzie_logo/UPM.2_horizontal_vermelho.jpg\"  width=300, align=\"right\">\n",
        "<br>\n",
        "<br>\n",
        "<br>\n",
        "<br>\n",
        "<br>\n",
        "\n",
        "# Projeto de Análise Exploratória de Dados\n",
        "---"
      ]
    },
    {
      "cell_type": "markdown",
      "metadata": {
        "id": "guaxIf-ikrSX"
      },
      "source": [
        "<h1 align=left><font size = 6, style=\"color:rgb(200,0,0)\">Billboard Hot 100</font></h1>\n",
        "<hr>"
      ]
    },
    {
      "cell_type": "code",
      "metadata": {
        "id": "rYx9D4GZA5o9",
        "cellView": "form"
      },
      "source": [
        "#@title Identificação\n",
        "\n",
        "#@markdown Turma\n",
        "Turma = 'An\\xE1lise Explorat\\xF3ria de Dados' #@param {type:\"string\"}\n",
        "#@markdown Integrantes do Grupo\n",
        "Aluno1 = 'Allan Marcondes de Oliveira - 22010580' #@param {type:\"string\"}\n",
        "Aluno2 = 'Daniel Rodrigues da Silva - 22521933' #@param {type:\"string\"}\n",
        "Aluno3 = 'Dianna Mayumi Santos Katayama - 22501762' #@param {type:\"string\"}\n",
        "Aluno4 = 'Nicolas Pinotti - 22514112' #@param {type:\"string\"}\n",
        "\n"
      ],
      "execution_count": null,
      "outputs": []
    },
    {
      "cell_type": "markdown",
      "metadata": {
        "id": "A4-f8AtfKAn2"
      },
      "source": [
        "# Problema \n",
        "  \n",
        "Música é arte, é linguagem, é cultura, é terapia e também comunicação.\n",
        "Ao longo das décadas, quais artistas se destacaram e encantaram populações com suas músicas? \n",
        "Hits, baladas, gêneros, energia da música...Enfim, existe um grupo de características que fazem mais sucesso?\n",
        "Os hot 100 da Billboard e os mais populares do Spotify tem algo em comum?\n",
        "Responderemos essas e mais algumas dessas questões com esta análise."
      ]
    },
    {
      "cell_type": "markdown",
      "metadata": {
        "id": "xGFJyOm1Kdtd"
      },
      "source": [
        "# Descrição e origem dos dados \n",
        "\n",
        "Os dados foram adquiridos do projeto TidyTuesday, a comunidade R é a responsável pela coleta semanal dos dados.\n",
        "O dataset \"billboard.csv\" contém os rankings da Billboard Hot 100 dos anos 1958 a 2021. Alguns exemplos dos dados contidos no dataset são: nome do artista, data de entrada e saída do ranking, nome da música, posição no ranking, dentre outros dados que podem ser conferidos na íntegra na \"Estrutura dos Dados\".\n",
        "O dataset \"audio_features.csv\" possui informações coletadas da API do Spotify, contém características musicais, como energia, valência, duração. A descrição completa pode ser vista na \"Estrutura dos Dados\".\n",
        "\n",
        "\n",
        "\n",
        "Datasets billboard.csv e audio_feautes.csv adquiridos nestes endereços: \"https://raw.githubusercontent.com/rfordatascience/tidytuesday/master/data/2021/2021-09-14/billboard.csv\" e \n",
        "\"https://raw.githubusercontent.com/rfordatascience/tidytuesday/master/data/2021/2021-09-14/audio_features.csv\"\n",
        "\n",
        "\n",
        "\n",
        "\n",
        "\n"
      ]
    },
    {
      "cell_type": "markdown",
      "metadata": {
        "id": "IRCz80MnLr7N"
      },
      "source": [
        "# Aquisição dos Dados\n",
        "\n",
        "Utilizamos a bibliotecas Pandas e Requests para fazer a aquisição dos datasets diretamente do GitHub, conforme as instruções do professor.\n",
        "Após a aquisição, decidimos fazer um merge considerando a coluna song_id dos dataset e, criamos o df.billspot, decidimos excluir os campos com valores ausentes e duplicados e considerar apenas os campos com valores utilizáveis.\n",
        "\n",
        "\n",
        "\n",
        "\n"
      ]
    },
    {
      "cell_type": "code",
      "metadata": {
        "id": "L4VHMKS6L4DQ"
      },
      "source": [
        "import requests\n",
        "import pandas as pd\n",
        "from io import StringIO\n",
        "\n",
        "\n",
        "billboard_url = \"https://raw.githubusercontent.com/rfordatascience/tidytuesday/master/data/2021/2021-09-14/billboard.csv\"\n",
        "response = requests.get(billboard_url).content.decode('utf-8')\n",
        "csv_data = StringIO(response)\n",
        "df_billboard = pd.read_csv(csv_data)\n",
        "\n",
        "df_billboard = df_billboard.replace(';', ' ', regex=True)\n",
        "\n",
        "\n",
        "spotify_url = \"https://raw.githubusercontent.com/rfordatascience/tidytuesday/master/data/2021/2021-09-14/audio_features.csv\"\n",
        "response = requests.get(spotify_url).content.decode('utf-8')\n",
        "csv_data2 = StringIO(response)\n",
        "df_spotify = pd.read_csv(csv_data2)\n",
        "\n",
        "df_spotify = df_spotify.replace(';', ' ', regex=True)\n",
        "\n",
        "\n",
        "df_billspot = pd.merge(df_billboard, df_spotify, on='song_id', how='inner')\n",
        "df_billspot = df_billspot.dropna()\n",
        "df_billspot = df_billspot.drop_duplicates()\n",
        "\n"
      ],
      "execution_count": 26,
      "outputs": []
    },
    {
      "cell_type": "markdown",
      "metadata": {
        "id": "c8-GAboQLMaN"
      },
      "source": [
        "# Análise dos Dados\n"
      ]
    },
    {
      "cell_type": "markdown",
      "metadata": {
        "id": "9kwoGZeSLRsX"
      },
      "source": [
        "## Estrutura dos Dados\n",
        "\n",
        "| Variável | Tipo | Descrição |\n",
        "| -------- | -------- | -------- |\n",
        "|  url  |  string  |  URL da lista da Billboard   |\n",
        "|  week_id  |  string  |  Identificador  |\n",
        "|  week_position  |  int64  |  Posição na semana de 1/100  |\n",
        "|  song  |  string  |  Nome da música  |\n",
        "|  performer  |  string  |  Nome do cantor(a)  |\n",
        "|  song_id  |  string  |  ID (identificador) da música: música + cantor(a)  |\n",
        "|  instance  |  int64  |  A instância indica quantas vezes a música aparece nas listas  |\n",
        "|  previous_week_position  |  float64  |  Indica a posição que uma determinada música está subindo ou descendo na lista.  |\n",
        "|  peak_position  |  int64  |  Posição mais alta que uma música alcançou.  |\n",
        "|  weeks_on_chart  |  int64  |  Semanas nas paradas de sucesso.  |\n",
        "|  spotify_genre  |  string  |  Gênero musical.  |\n",
        "|  spotify_track_id  |  string  |  Identificador de uma faixa musical/ música.  |\n",
        "|  spotify_track_preview_url  |  string  |  URL contendo uma prévia da música.  |\n",
        "|  spotify_track_duration_ms  |  float64  |  Duração da música em milissegundos.  |\n",
        "|  spotify_track_explicit  |  string  |  Indica se a música contém conteúdo explícito.  |\n",
        "|  spotify_track_album  |  string  |  Nome do álbum  |\n",
        "|  danceability  |  float64  |  mede o quanto uma musica é dançante. Métricas utilizadas no cálculo: Tempo, estabilidade rítmica, força do rítmo, regularidade. O valor 0.0 é menos dançante e 1.0 é mais dançável.  |\n",
        "|  energy  |  float64  |  mensurada de 0.0 a 1.0, avalia as características de alcance dinâmico, percepção de volume, timbre, taxa de início e entropia. Se nenhuma nota for detectada, o valor será -1  |\n",
        "|  key  |  float64  |  A chave geral estimada da faixa. Números inteiros são mapeados para notas usando a notação padrão de classe de pitch. Por exemplo, 0 = C, 1 = C♯/D♭, 2 = D, e assim por diante. Se nenhuma chave for detectada, o valor é -1.  |\n",
        "|  loudness  |  float64  |  Calcula a intensidade da música em decibéis. OS valores, geralmente, variam entre -60 e 0 dB.  |\n",
        "|  mode  |  float64  |  Modalidade da escala da música (maior ou menor).  |\n",
        "|  speechiness  |  float64  |  Valor númerico que indica a presença de palavras faladas. Valores acima de 0.66 indicam que são exclusivamente de palavras faladas. Valores de 0.33 e 0.66, podem ser músicas que podem conter tanto música quanto fala. Abaixo de 0.33, provavelmente são músicas que não possuem características de fala.  |\n",
        "|  acousticness  |  float64  |  Mede se a música contém poucos ou nenhum elemento acústico. A medida é calculada usando a presença de instrumentos acústicos, a densidade espectral e a complexidade harmônica.  |\n",
        "|  instrumentalness  |  float64  |  O instrumentalness é uma métrica que prevê se uma faixa musical contém ou não vocais. Sons como \"ooh\" e \"aah\" são considerados instrumentais nesse contexto. Faixas de rap ou spoken word são claramente \"vocais\". Quanto mais próximo o valor de instrumentalness for de 1.0, maior a probabilidade de a faixa não conter conteúdo vocal. Valores acima de 0,5 são destinados a representar faixas instrumentais, mas a confiança é maior à medida que o valor se aproxima de 1.0.  |\n",
        "|  liveness  |  float64  |  Mede a presença de uma audiência na gravação de uma música. Valores acima de 0,8 indica uma forte probabilidade de que a música tenha sido gravada ao vivo.  |\n",
        "|  valence  |  float64  |  Medida de 0.0 a 1.0 que descreve a positividade musical transmitida por uma faixa. Faixas com alta valência soam mais positivas (por exemplo, felizes, alegres, eufóricas), enquanto faixas com baixa valência soam mais negativas (por exemplo, tristes, deprimidas, irritadas).  |\n",
        "|  tempo  |  float64  |  Velocidade estimada geral de uma faixa em batidas por minuto (BPM).  |\n",
        "|  time_signature  |  float64  |  Refere-se ao número de batidas em cada medida ou compasso. Por exemplo, um tempo de assinatura de 4/4 indica que há 4 batidas em cada medida e que a nota de batida é uma quarto de nota.  |\n",
        "|  spotify_track_popularity  |  float64  |  Popularidade da música no Spotify, medida pela quantidade de reproduções e na velocidade que se tornou popular.  |"
      ]
    },
    {
      "cell_type": "code",
      "metadata": {
        "id": "TH7vYDWbMFBv"
      },
      "source": [
        "# Seu código"
      ],
      "execution_count": null,
      "outputs": []
    },
    {
      "cell_type": "markdown",
      "metadata": {
        "id": "GNAtxa_RMWcZ"
      },
      "source": [
        "## Análise (pergunta) 1.\n",
        "\n",
        ">> **Quais são os top 10 artistas que mais estiveram nas paradas de sucesso ao longo dos anos?**\n",
        "\n",
        "\n",
        "\n",
        "| Posição | Artista | Ocorrências |\n",
        "| -------- | -------- | -------- |\n",
        "|  1  |  Madonna                    |  786  |\n",
        "|  2  |  Kenny Chesney              |  710  |\n",
        "|  3  |  Tim McGraw                 |  535  |\n",
        "|  4  |  Jason Aldean               |  534  |\n",
        "|  5  |  Billy Joel                 |  533  |\n",
        "|  6  |  Chicago                    |  522  |\n",
        "|  7  |  P!nk                       |  517  |\n",
        "|  8  |  Brad Paisley               |  504  |\n",
        "|  9  |  Rod Stewart               |  501  |\n",
        "|  10  |  Daryl Hall John Oates      |  494  |"
      ]
    },
    {
      "cell_type": "code",
      "metadata": {
        "id": "Mi2ZSydwO0Qd",
        "cellView": "form"
      },
      "source": [
        "#@markdown ---\n",
        "#@title Q1. Aponte os principais recursos empregados nesta pergunta aqui:\n",
        "\n",
        "Q1a = \"Frequencias Marginais dos Dados\" #@param [\"Entre com estatísticas descritivas empregadas\", \"Proporcoes dos dados\", \"Proporcoes de valores\", \"Medias e Desvio Padrao\", \"Quartis\", \"Frequencias Marginais dos Dados\"] {type:\"string\"}\n",
        "Q1b = \"Exclusao de Nulos (dropna)\" #@param [\"Entre com uma transformacao de dados empregada\", \"Combinacao de dados (merge, join, concat)\", \"Mudancas de Formato (encode, substrings)\", \"Exclusao de Nulos (dropna)\", \"Adicao de Atributo Derivado\"] {type:\"string\"}\n",
        "Q1c = \"Agregacao simples\" #@param [\"Entre com uma selecao de dados empregada\", \"Agregacao simples\", \"Agregacao multipla\", \"nlargest/nsmallest\", \"Selecao de dados multicondicional\" , \"Selecao de dados simples\" ] {type:\"string\"}\n",
        "Q1d = \"Quantidades e Proporcoes (bar, pizza)\" #@param [\"Entre com uma visualizacao de dados empregada\", \"Evolucao dos dados (plot, lineplot)\", \"Distribuicao (hist, density, boxplot)\", \"Quantidades e Proporcoes (bar, pizza)\", \"Relacoes (scatterplot, pairplot, lmplot, heatmap)\"] {type:\"string\"}\n",
        "Q1e = \"Entre com um recurso de visualizacao empregado\" #@param [\"Entre com um recurso de visualizacao empregado\", \"Subplots\", \"Multiplas classes\", \"Ornamentos (cores, markers etc.)\", \"Inclusao de Texto no grafico\", \"Alteracao de Escalas\"] {type:\"string\"}\n",
        "Q1f = \"\" #@param {type:\"string\"}\n"
      ],
      "execution_count": null,
      "outputs": []
    },
    {
      "cell_type": "code",
      "metadata": {
        "id": "DXQN9xyFMWch"
      },
      "source": [
        "# Seu código"
      ],
      "execution_count": null,
      "outputs": []
    },
    {
      "cell_type": "markdown",
      "metadata": {
        "id": "FhYkp1iiNvwU"
      },
      "source": [
        "## Análise (pergunta) 2.\n",
        "\n",
        "**É maior a velocidade média dos veículos nos acidentes fatais?**\n",
        "\n",
        "**Sim**. Os acidentes fatais tem em média uma velocidade 30% maior que os acidentes sem vítima."
      ]
    },
    {
      "cell_type": "code",
      "metadata": {
        "id": "CVRWBkG4Yc61",
        "cellView": "form"
      },
      "source": [
        "#@markdown ---\n",
        "#@title Q2. Aponte os principais recursos empregados nesta pergunta aqui:\n",
        "\n",
        "Q2a = \"Entre com estatísticas descritivas empregadas\" #@param [\"Entre com estatísticas descritivas empregadas\", \"Proporcoes dos dados\", \"Proporcoes de valores\", \"Medias e Desvio Padrao\", \"Quartis\", \"Frequencias Marginais dos Dados\"] {type:\"string\"}\n",
        "Q2b = \"Entre com uma transformacao de dados empregada\" #@param [\"Entre com uma transformacao de dados empregada\", \"Combinacao de dados (merge, join, concat)\", \"Mudancas de Formato (encode, substrings)\", \"Exclusao de Nulos (dropna)\", \"Adicao de Atributo Derivado\"] {type:\"string\"}\n",
        "Q2c = \"Entre com uma selecao de dados empregada\" #@param [\"Entre com uma selecao de dados empregada\", \"Agregacao simples\", \"Agregacao multipla\", \"nlargest/nsmallest\", \"Selecao de dados multicondicional\" , \"Selecao de dados simples\" ] {type:\"string\"}\n",
        "Q2d = \"Entre com uma visualizacao de dados empregada\" #@param [\"Entre com uma visualizacao de dados empregada\", \"Evolucao dos dados (plot, lineplot)\", \"Distribuicao (hist, density, boxplot)\", \"Quantidades e Proporcoes (bar, pizza)\", \"Relacoes (scatterplot, pairplot, lmplot, heatmap)\"] {type:\"string\"}\n",
        "Q2e = \"Subplots\" #@param [\"Entre com um recurso de visualizacao empregado\", \"Subplots\", \"Multiplas classes\", \"Ornamentos (cores, markers etc.)\", \"Inclusao de Texto no grafico\", \"Alteracao de Escalas\"] {type:\"string\"}\n",
        "Q2f = \"\" #@param {type:\"string\"}\n"
      ],
      "execution_count": null,
      "outputs": []
    },
    {
      "cell_type": "code",
      "metadata": {
        "id": "vREl8LFSNvwf"
      },
      "source": [
        "# Seu código"
      ],
      "execution_count": null,
      "outputs": []
    },
    {
      "cell_type": "markdown",
      "metadata": {
        "id": "x-cBXhQ5ObW_"
      },
      "source": [
        "## Análise (pergunta) 3.\n",
        "\n",
        "**Considerando os acidentes de motoristas homens e mulheres. Há diferença no número de acidentes quando viajam sozinhos ou  acompanhados?**\n",
        "\n",
        "**...**. ..."
      ]
    },
    {
      "cell_type": "code",
      "metadata": {
        "id": "NDRy9XcYYdjz",
        "cellView": "form"
      },
      "source": [
        "#@markdown ---\n",
        "#@title Q3. Aponte os principais recursos empregados nesta pergunta aqui:\n",
        "\n",
        "Q3a = \"Entre com estatísticas descritivas empregadas\" #@param [\"Entre com estatísticas descritivas empregadas\", \"Proporcoes dos dados\", \"Proporcoes de valores\", \"Medias e Desvio Padrao\", \"Quartis\", \"Frequencias Marginais dos Dados\"] {type:\"string\"}\n",
        "Q3b = \"Entre com uma transformacao de dados empregada\" #@param [\"Entre com uma transformacao de dados empregada\", \"Combinacao de dados (merge, join, concat)\", \"Mudancas de Formato (encode, substrings)\", \"Exclusao de Nulos (dropna)\", \"Adicao de Atributo Derivado\"] {type:\"string\"}\n",
        "Q3c = \"Entre com uma selecao de dados empregada\" #@param [\"Entre com uma selecao de dados empregada\", \"Agregacao simples\", \"Agregacao multipla\", \"nlargest/nsmallest\", \"Selecao de dados multicondicional\" , \"Selecao de dados simples\" ] {type:\"string\"}\n",
        "Q3d = \"Entre com uma visualizacao de dados empregada\" #@param [\"Entre com uma visualizacao de dados empregada\", \"Evolucao dos dados (plot, lineplot)\", \"Distribuicao (hist, density, boxplot)\", \"Quantidades e Proporcoes (bar, pizza)\", \"Relacoes (scatterplot, pairplot, lmplot, heatmap)\"] {type:\"string\"}\n",
        "Q3e = \"Entre com um recurso de visualizacao empregado\" #@param [\"Entre com um recurso de visualizacao empregado\", \"Subplots\", \"Multiplas classes\", \"Ornamentos (cores, markers etc.)\", \"Inclusao de Texto no grafico\", \"Alteracao de Escalas\"] {type:\"string\"}\n",
        "Q3f = \"\" #@param {type:\"string\"}\n"
      ],
      "execution_count": null,
      "outputs": []
    },
    {
      "cell_type": "code",
      "metadata": {
        "id": "zJUfgz3IObXI"
      },
      "source": [
        "# Seu código"
      ],
      "execution_count": null,
      "outputs": []
    },
    {
      "cell_type": "markdown",
      "metadata": {
        "id": "Xf_2fvLPPbPV"
      },
      "source": [
        "## Análise (pergunta) 4.\n",
        "\n",
        "**Qual a distribuição dos acidentes ao longo do ano. Existe um período de mais concentração dos acidentes?**\n",
        "\n",
        "**...**. ..."
      ]
    },
    {
      "cell_type": "code",
      "metadata": {
        "id": "J4a_5i5fYeBi",
        "cellView": "form"
      },
      "source": [
        "#@markdown ---\n",
        "#@title Q4. Aponte os principais recursos empregados nesta pergunta aqui:\n",
        "\n",
        "Q4a = \"Entre com estatísticas descritivas empregadas\" #@param [\"Entre com estatísticas descritivas empregadas\", \"Proporcoes dos dados\", \"Proporcoes de valores\", \"Medias e Desvio Padrao\", \"Quartis\", \"Frequencias Marginais dos Dados\"] {type:\"string\"}\n",
        "Q4b = \"Entre com uma transformacao de dados empregada\" #@param [\"Entre com uma transformacao de dados empregada\", \"Combinacao de dados (merge, join, concat)\", \"Mudancas de Formato (encode, substrings)\", \"Exclusao de Nulos (dropna)\", \"Adicao de Atributo Derivado\"] {type:\"string\"}\n",
        "Q4c = \"Entre com uma selecao de dados empregada\" #@param [\"Entre com uma selecao de dados empregada\", \"Agregacao simples\", \"Agregacao multipla\", \"nlargest/nsmallest\", \"Selecao de dados multicondicional\" , \"Selecao de dados simples\" ] {type:\"string\"}\n",
        "Q4d = \"Entre com uma visualizacao de dados empregada\" #@param [\"Entre com uma visualizacao de dados empregada\", \"Evolucao dos dados (plot, lineplot)\", \"Distribuicao (hist, density, boxplot)\", \"Quantidades e Proporcoes (bar, pizza)\", \"Relacoes (scatterplot, pairplot, lmplot, heatmap)\"] {type:\"string\"}\n",
        "Q4e = \"Entre com um recurso de visualizacao empregado\" #@param [\"Entre com um recurso de visualizacao empregado\", \"Subplots\", \"Multiplas classes\", \"Ornamentos (cores, markers etc.)\", \"Inclusao de Texto no grafico\", \"Alteracao de Escalas\"] {type:\"string\"}\n",
        "Q4f = \"\" #@param {type:\"string\"}"
      ],
      "execution_count": null,
      "outputs": []
    },
    {
      "cell_type": "code",
      "metadata": {
        "id": "LP9lCqRTPbPV"
      },
      "source": [
        "# Seu código"
      ],
      "execution_count": null,
      "outputs": []
    },
    {
      "cell_type": "markdown",
      "metadata": {
        "id": "1Pr_xUW_PpVR"
      },
      "source": [
        "## Análise (pergunta) 5.\n",
        "\n",
        "**Entre os motoristas envolvidos em acidentes quais apresentam maior dispersão de idade, homens ou mulheres?**\n",
        "\n",
        "**...**. ..."
      ]
    },
    {
      "cell_type": "code",
      "metadata": {
        "id": "MKds5VYaYeky",
        "cellView": "form"
      },
      "source": [
        "#@markdown ---\n",
        "#@title Q5. Aponte os principais recursos empregados nesta pergunta aqui:\n",
        "\n",
        "Q5a = \"Entre com estatísticas descritivas empregadas\" #@param [\"Entre com estatísticas descritivas empregadas\", \"Proporcoes dos dados\", \"Proporcoes de valores\", \"Medias e Desvio Padrao\", \"Quartis\", \"Frequencias Marginais dos Dados\"] {type:\"string\"}\n",
        "Q5b = \"Entre com uma transformacao de dados empregada\" #@param [\"Entre com uma transformacao de dados empregada\", \"Combinacao de dados (merge, join, concat)\", \"Mudancas de Formato (encode, substrings)\", \"Exclusao de Nulos (dropna)\", \"Adicao de Atributo Derivado\"] {type:\"string\"}\n",
        "Q5c = \"Entre com uma selecao de dados empregada\" #@param [\"Entre com uma selecao de dados empregada\", \"Agregacao simples\", \"Agregacao multipla\", \"nlargest/nsmallest\", \"Selecao de dados multicondicional\" , \"Selecao de dados simples\" ] {type:\"string\"}\n",
        "Q5d = \"Entre com uma visualizacao de dados empregada\" #@param [\"Entre com uma visualizacao de dados empregada\", \"Evolucao dos dados (plot, lineplot)\", \"Distribuicao (hist, density, boxplot)\", \"Quantidades e Proporcoes (bar, pizza)\", \"Relacoes (scatterplot, pairplot, lmplot, heatmap)\"] {type:\"string\"}\n",
        "Q5e = \"Entre com um recurso de visualizacao empregado\" #@param [\"Entre com um recurso de visualizacao empregado\", \"Subplots\", \"Multiplas classes\", \"Ornamentos (cores, markers etc.)\", \"Inclusao de Texto no grafico\", \"Alteracao de Escalas\"] {type:\"string\"}\n",
        "Q5f = \"\" #@param {type:\"string\"}"
      ],
      "execution_count": null,
      "outputs": []
    },
    {
      "cell_type": "code",
      "metadata": {
        "id": "pL0x4e94PpVS"
      },
      "source": [
        "# Seu código"
      ],
      "execution_count": null,
      "outputs": []
    },
    {
      "cell_type": "markdown",
      "metadata": {
        "id": "56Lu4QWzQGuM"
      },
      "source": [
        "## Análise (pergunta) 6.\n",
        "\n",
        "**A soma das despesas da administradora da Rodovia com acidentes fatais é inferior às despesas com os demais acidentes?**\n",
        "\n",
        "**...**. ..."
      ]
    },
    {
      "cell_type": "code",
      "metadata": {
        "id": "jH_sUHK2YfAA",
        "cellView": "form"
      },
      "source": [
        "#@markdown ---\n",
        "#@title Q6. Aponte os principais recursos empregados nesta pergunta aqui:\n",
        "\n",
        "Q6a = \"Entre com estatísticas descritivas empregadas\" #@param [\"Entre com estatísticas descritivas empregadas\", \"Proporcoes dos dados\", \"Proporcoes de valores\", \"Medias e Desvio Padrao\", \"Quartis\", \"Frequencias Marginais dos Dados\"] {type:\"string\"}\n",
        "Q6b = \"Entre com uma transformacao de dados empregada\" #@param [\"Entre com uma transformacao de dados empregada\", \"Combinacao de dados (merge, join, concat)\", \"Mudancas de Formato (encode, substrings)\", \"Exclusao de Nulos (dropna)\", \"Adicao de Atributo Derivado\"] {type:\"string\"}\n",
        "Q6c = \"Entre com uma selecao de dados empregada\" #@param [\"Entre com uma selecao de dados empregada\", \"Agregacao simples\", \"Agregacao multipla\", \"nlargest/nsmallest\", \"Selecao de dados multicondicional\" , \"Selecao de dados simples\" ] {type:\"string\"}\n",
        "Q6d = \"Entre com uma visualizacao de dados empregada\" #@param [\"Entre com uma visualizacao de dados empregada\", \"Evolucao dos dados (plot, lineplot)\", \"Distribuicao (hist, density, boxplot)\", \"Quantidades e Proporcoes (bar, pizza)\", \"Relacoes (scatterplot, pairplot, lmplot, heatmap)\"] {type:\"string\"}\n",
        "Q6e = \"Entre com um recurso de visualizacao empregado\" #@param [\"Entre com um recurso de visualizacao empregado\", \"Subplots\", \"Multiplas classes\", \"Ornamentos (cores, markers etc.)\", \"Inclusao de Texto no grafico\", \"Alteracao de Escalas\"] {type:\"string\"}\n",
        "Q6f = \"\" #@param {type:\"string\"}\n"
      ],
      "execution_count": null,
      "outputs": []
    },
    {
      "cell_type": "code",
      "metadata": {
        "id": "8_DuxVOJQGuN"
      },
      "source": [
        "# Seu código"
      ],
      "execution_count": null,
      "outputs": []
    },
    {
      "cell_type": "markdown",
      "metadata": {
        "id": "844kaIoSQbHH"
      },
      "source": [
        "# Conclusão\n",
        "\n",
        "Com base nas suas análises o que você conclui? Essa é uma parte importante do seu trabalho. A análise de dados busca identificar aspectos e confirmar hipóteses sobre o dados para a tomada de decisões. Por exemplo, se em uma análise você chega a conclusão, a partir dos dados, que no período da noite existem mais acidentes fatais por excesso de velocidade, você pode propor aumentar o pedágio ou intensificar a fiscalização nesse horário. Ou em uma base de salários, se você identifica menores salários para as mulheres na empresa, por propor mudanças no recrutamento. Assim, não deixe de incluir nas suas conclusões recomendações ou decisões que você tomaria com base em suas análises e que resultados esperaria alcançar. Justifique, em todos os casos as suas conclusões."
      ]
    },
    {
      "cell_type": "markdown",
      "metadata": {
        "id": "8crUBC3IQ3U_"
      },
      "source": [
        "---"
      ]
    },
    {
      "cell_type": "code",
      "metadata": {
        "id": "BluFtfHuCGzm",
        "colab": {
          "base_uri": "https://localhost:8080/"
        },
        "cellView": "form",
        "outputId": "2ee5c5f8-a6e1-4750-cf62-add2f8412a9a"
      },
      "source": [
        "#@markdown ---\n",
        "#@title Notas\n",
        "Completo = 10 #@param {type:\"slider\", min:0, max:10, step:1}\n",
        "#@markdown São apresentadas todas as 6 perguntas e empregadas estatísticas descritivas, seleções simples e múltiplas, agrupamentos e transformações dos dados. \n",
        "Relevancia = 9 #@param {type:\"slider\", min:0, max:10, step:1}\n",
        "#@markdown O tema é abordado corretamente e as perguntas e análises pertinentes ao problema. \n",
        "Tecnicas = 10 #@param {type:\"slider\", min:0, max:10, step:1}\n",
        "#@markdown As técnicas de gadas estatíticas dos dados, seleções, agrupamentos e transformações são corretamente aplicadas\n",
        "Apresentacao = 5 #@param {type:\"slider\", min:0, max:10, step:1}\n",
        "#@markdown A apresentação dos resultados é clara e objetiva \n",
        "Conclusao = 3 #@param {type:\"slider\", min:0, max:10, step:1}\n",
        "#@markdown As conclusões são justificadas e relevantes\n",
        "Bonus = 0.5 #@param {type:\"slider\", min:0, max:1, step:0.5}\n",
        "#@markdown A critério do professor por inovações na abordagem e no uso de técnicas de Análise de Dados\n",
        "\n",
        "#@markdown ---\n",
        "#@markdown ### Apresentação\n",
        "Datafolio = 0 #@param {type:\"slider\", min:0, max:10, step:1}\n",
        "Video = 0 #@param {type:\"slider\", min:0, max:10, step:1}\n",
        "\n",
        "#@markdown ### Sumário \n",
        "#@markdown ---\n",
        "\n",
        "resumo = {}\n",
        "for q in range(1,7):\n",
        "  resumo[q] = []\n",
        "  for t in ['a','b','c','d','e','f']:\n",
        "    exec( 'resumo[q].append(Q' + str(q) + t + ')')\n",
        "\n",
        "for q, recurso in resumo.items():\n",
        "  for i in range(len(recurso)):\n",
        "    if recurso[i][0:5] == 'Entre':\n",
        "      recurso[i] = 'None'\n",
        "\n",
        "print('Resumo')\n",
        "print(60*'-')\n",
        "for q in resumo:\n",
        "  print('*** Questão: ', q)\n",
        "  for r in resumo[q]:\n",
        "    print(r)\n",
        "\n"
      ],
      "execution_count": null,
      "outputs": [
        {
          "output_type": "stream",
          "name": "stdout",
          "text": [
            "Resumo\n",
            "------------------------------------------------------------\n",
            "*** Questão:  1\n",
            "None\n",
            "None\n",
            "None\n",
            "None\n",
            "None\n",
            "\n",
            "*** Questão:  2\n",
            "None\n",
            "None\n",
            "None\n",
            "None\n",
            "None\n",
            "\n",
            "*** Questão:  3\n",
            "None\n",
            "None\n",
            "None\n",
            "None\n",
            "None\n",
            "\n",
            "*** Questão:  4\n",
            "None\n",
            "None\n",
            "None\n",
            "None\n",
            "None\n",
            "\n",
            "*** Questão:  5\n",
            "None\n",
            "None\n",
            "None\n",
            "None\n",
            "None\n",
            "\n",
            "*** Questão:  6\n",
            "None\n",
            "None\n",
            "None\n",
            "None\n",
            "None\n",
            "\n"
          ]
        }
      ]
    },
    {
      "cell_type": "code",
      "metadata": {
        "colab": {
          "base_uri": "https://localhost:8080/"
        },
        "id": "2Gqw7hUZHyle",
        "cellView": "form",
        "outputId": "1841d822-ab16-4270-c2b9-87e3ec606a55"
      },
      "source": [
        "#@markdown ### Nota Final\n",
        "Nota1 = Completo + Relevancia + Tecnicas + Apresentacao + Conclusao \n",
        "Nota2 = Datafolio + Apresentacao\n",
        "\n",
        "nota = (Nota1 + Nota2) / 7 + Bonus  \n",
        "\n",
        "nota = Nota1 / 5 + Bonus\n",
        "\n",
        "print(f'Nota final do trabalho {nota :.2f}')\n",
        "\n"
      ],
      "execution_count": null,
      "outputs": [
        {
          "output_type": "stream",
          "name": "stdout",
          "text": [
            "Nota final do trabalho 7.90\n"
          ]
        }
      ]
    }
  ]
}